{
  "cells": [
    {
      "cell_type": "markdown",
      "metadata": {
        "id": "QdLW1nPD0m2c"
      },
      "source": [
        "**Hello World**"
      ]
    },
    {
      "cell_type": "code",
      "source": [],
      "metadata": {
        "id": "XLYnO_pWmQ5Q"
      },
      "execution_count": null,
      "outputs": []
    },
    {
      "cell_type": "code",
      "execution_count": null,
      "metadata": {
        "id": "CwGdeg5inpuN",
        "colab": {
          "base_uri": "https://localhost:8080/"
        },
        "outputId": "e1ae3ecd-34b4-482f-c48f-9a5c79a19f97"
      },
      "outputs": [
        {
          "output_type": "stream",
          "name": "stdout",
          "text": [
            "Hello World\n"
          ]
        }
      ],
      "source": [
        "print('Hello World')"
      ]
    },
    {
      "cell_type": "markdown",
      "metadata": {
        "id": "c2ayKljWnXfU"
      },
      "source": [
        "**Basic Datatypes** "
      ]
    },
    {
      "cell_type": "code",
      "execution_count": null,
      "metadata": {
        "id": "oiFuLYk2obT1",
        "colab": {
          "base_uri": "https://localhost:8080/"
        },
        "outputId": "ba31a830-c2bf-45f9-b554-74c1a89f961f"
      },
      "outputs": [
        {
          "output_type": "stream",
          "name": "stdout",
          "text": [
            "5\n",
            "<class 'int'>\n"
          ]
        }
      ],
      "source": [
        "a=5\n",
        "print(a)\n",
        "print(type(a))\n",
        "# 5\n",
        "# <class 'int'>"
      ]
    },
    {
      "cell_type": "code",
      "execution_count": null,
      "metadata": {
        "id": "3mgBGuXl1L3h",
        "colab": {
          "base_uri": "https://localhost:8080/"
        },
        "outputId": "30720d26-0acd-456d-f7f8-6cb5fb3ed619"
      },
      "outputs": [
        {
          "output_type": "stream",
          "name": "stdout",
          "text": [
            "1.5\n",
            "<class 'float'>\n"
          ]
        }
      ],
      "source": [
        "f=1.5\n",
        "print(f)\n",
        "print(type(f))\n",
        "# 1.5\n",
        "# <class 'float'>"
      ]
    },
    {
      "cell_type": "code",
      "execution_count": null,
      "metadata": {
        "id": "McMlGrum1RrK",
        "colab": {
          "base_uri": "https://localhost:8080/"
        },
        "outputId": "7ad0c2c7-7994-4543-de8d-88ed2f720d94"
      },
      "outputs": [
        {
          "output_type": "stream",
          "name": "stdout",
          "text": [
            "hello\n",
            "<class 'str'>\n"
          ]
        }
      ],
      "source": [
        "s=\"hello\"\n",
        "print(s)\n",
        "print(type(s))\n",
        "# hello\n",
        "# <class 'str'>"
      ]
    },
    {
      "cell_type": "code",
      "execution_count": null,
      "metadata": {
        "id": "Eh_pe1Cq1asj",
        "colab": {
          "base_uri": "https://localhost:8080/"
        },
        "outputId": "44fd0c0a-bb72-4c00-9bd5-dcf9c0030b51"
      },
      "outputs": [
        {
          "output_type": "stream",
          "name": "stdout",
          "text": [
            "True\n",
            "<class 'bool'>\n"
          ]
        }
      ],
      "source": [
        "b=True\n",
        "print(b)\n",
        "print(type(b))\n",
        "# True\n",
        "# <class 'bool'>"
      ]
    },
    {
      "cell_type": "code",
      "execution_count": null,
      "metadata": {
        "id": "YeqqbRGw1fM4"
      },
      "outputs": [],
      "source": [
        "t=5+3j\n",
        "print(t)\n",
        "print(type(t))\n",
        "# (5+3j)\n",
        "# <class 'complex'>"
      ]
    },
    {
      "cell_type": "markdown",
      "metadata": {
        "id": "U8oiZkBA1o7v"
      },
      "source": [
        "**Arithmetic Operators** "
      ]
    },
    {
      "cell_type": "code",
      "execution_count": null,
      "metadata": {
        "id": "6B7vZAZ2puDz",
        "colab": {
          "base_uri": "https://localhost:8080/"
        },
        "outputId": "3a3908fd-59e8-46f1-a734-841ddfa65f6f"
      },
      "outputs": [
        {
          "output_type": "stream",
          "name": "stdout",
          "text": [
            "10\n",
            "4\n",
            "21\n"
          ]
        }
      ],
      "source": [
        "a = 7\n",
        "b = 3\n",
        "\n",
        "ab_sum = a + b\n",
        "print(ab_sum)\n",
        "# 10\n",
        "\n",
        "ab_dif = a - b\n",
        "print(ab_dif)\n",
        "# 4\n",
        "\n",
        "ab_pro = a * b\n",
        "print(ab_pro)\n",
        "# 21"
      ]
    },
    {
      "cell_type": "code",
      "execution_count": null,
      "metadata": {
        "id": "Eni5i4Tw16eJ",
        "colab": {
          "base_uri": "https://localhost:8080/"
        },
        "outputId": "3c5f98c6-bffa-48be-e5f4-53a97e19f84e"
      },
      "outputs": [
        {
          "output_type": "stream",
          "name": "stdout",
          "text": [
            "2.3333333333333335\n",
            "2\n",
            "1\n",
            "343\n"
          ]
        }
      ],
      "source": [
        "ab_quo = a / b\n",
        "print(ab_quo)\n",
        "# 2.3333333333333335\n",
        "\n",
        "ab_iquo = a // b\n",
        "print(ab_iquo)\n",
        "# 2\n",
        "\n",
        "ab_rem = a % b\n",
        "print(ab_rem)\n",
        "# 1\n",
        "\n",
        "ab_pow = a ** b\n",
        "print(ab_pow)\n",
        "# 343\n"
      ]
    },
    {
      "cell_type": "markdown",
      "metadata": {
        "id": "IWkyiIh12Kfm"
      },
      "source": [
        "**Boolean Operations**"
      ]
    },
    {
      "cell_type": "code",
      "execution_count": null,
      "metadata": {
        "id": "cnsJp7h2wcJl",
        "colab": {
          "base_uri": "https://localhost:8080/"
        },
        "outputId": "c3476151-d60a-4d79-a890-1b896b3e50c3"
      },
      "outputs": [
        {
          "output_type": "stream",
          "name": "stdout",
          "text": [
            "True False\n",
            "True\n",
            "False\n"
          ]
        }
      ],
      "source": [
        "T=True\n",
        "F=False\n",
        "\n",
        "print(T,F)\n",
        "# True False\n",
        "\n",
        "p = 5 > 3\n",
        "print(p)\n",
        "# True\n",
        "\n",
        "q = -1 < -12.5\n",
        "print(q)\n",
        "# False\n"
      ]
    },
    {
      "cell_type": "code",
      "execution_count": null,
      "metadata": {
        "id": "VxhSejuv2U1T",
        "colab": {
          "base_uri": "https://localhost:8080/"
        },
        "outputId": "767f0cec-c2c2-4007-c0c0-f4e01df35547"
      },
      "outputs": [
        {
          "output_type": "stream",
          "name": "stdout",
          "text": [
            "False\n",
            "True\n",
            "True\n"
          ]
        }
      ],
      "source": [
        "print(p and q)\n",
        "# False\n",
        "\n",
        "print(p or q)\n",
        "# True\n",
        "\n",
        "print(not q)\n",
        "# True"
      ]
    },
    {
      "cell_type": "markdown",
      "metadata": {
        "id": "EcQBmCaY2fui"
      },
      "source": [
        "**String Operations** "
      ]
    },
    {
      "cell_type": "code",
      "execution_count": null,
      "metadata": {
        "id": "m72PL9tq2vB8",
        "colab": {
          "base_uri": "https://localhost:8080/"
        },
        "outputId": "f67a5bbf-8a4b-4aaf-c691-9b52e21a30da"
      },
      "outputs": [
        {
          "output_type": "stream",
          "name": "stdout",
          "text": [
            "hello\n",
            "hello i am\n",
            "  suada.i am doing research in\n",
            "  \n"
          ]
        }
      ],
      "source": [
        "s = 'hello'\n",
        "u = '''hello i am\n",
        "  suada.i am doing research in\n",
        "  '''\n",
        "\n",
        "print(s)\n",
        "print(u)\n",
        "# hello\n",
        "# hello"
      ]
    },
    {
      "cell_type": "code",
      "execution_count": null,
      "metadata": {
        "id": "n_ZXNNuC25uy",
        "colab": {
          "base_uri": "https://localhost:8080/"
        },
        "outputId": "a567a113-1170-480a-9f69-9eab99168b80"
      },
      "outputs": [
        {
          "output_type": "stream",
          "name": "stdout",
          "text": [
            "python world\n",
            "python world\n",
            "python world 1011\n"
          ]
        }
      ],
      "source": [
        "s1 = \"python\"\n",
        "s2 = 'world'\n",
        "s3 = s1 + ' ' + s2\n",
        "print(s3)\n",
        "# python world\n",
        "\n",
        "s3 = '%s %s %d' %(s1, s2, 1011)\n",
        "\n",
        "s4=(f\"{s1} {s2}\")\n",
        "print(s4)\n",
        "print(s3)\n",
        "# python world 1011"
      ]
    },
    {
      "cell_type": "code",
      "execution_count": null,
      "metadata": {
        "id": "r7D-TMHE3Auz",
        "colab": {
          "base_uri": "https://localhost:8080/"
        },
        "outputId": "b728ca3b-737c-49cf-90f2-4584c68fdfbb"
      },
      "outputs": [
        {
          "output_type": "stream",
          "name": "stdout",
          "text": [
            "17\n",
            "PYTHON WORLD 1011\n",
            "Python world 1011\n",
            "python world 1011\n",
            "['hell', 'world how are you']\n",
            "beek\n",
            "2\n",
            "-1\n"
          ]
        }
      ],
      "source": [
        "print(len(s3))\n",
        "# 12\n",
        "\n",
        "print(s3.upper())\n",
        "# PYTHON WORLD\n",
        "\n",
        "print(s3.capitalize())\n",
        "# Python world\n",
        "\n",
        "print(s3.lower())\n",
        "# python world\n",
        "\n",
        "print('hello world how are you'.split(' '))\n",
        "# ['hello', 'world', 'how', 'are', 'you']\n",
        "\n",
        "print('book'.replace('o','e'))\n",
        "# beek\n",
        "\n",
        "word = 'jewellery'\n",
        "print(word.find('well'))\n",
        "print(word.find('is'))\n",
        "# 2\n",
        "# -1"
      ]
    },
    {
      "cell_type": "code",
      "source": [
        "word = 'jewellery'\n",
        "print(word.find('well'))\n",
        "print(word.find('is'))\n",
        "print(word[-1])\n",
        "print(word[8])\n",
        "print(word[-2])"
      ],
      "metadata": {
        "colab": {
          "base_uri": "https://localhost:8080/"
        },
        "id": "5GP1iO4aDP3S",
        "outputId": "35c446e6-32fd-4aa6-b618-1b680a464a93"
      },
      "execution_count": null,
      "outputs": [
        {
          "output_type": "stream",
          "name": "stdout",
          "text": [
            "2\n",
            "-1\n",
            "y\n",
            "y\n",
            "r\n"
          ]
        }
      ]
    },
    {
      "cell_type": "markdown",
      "metadata": {
        "id": "7NOeavil3U54"
      },
      "source": [
        "**Control Structures** "
      ]
    },
    {
      "cell_type": "markdown",
      "metadata": {
        "id": "cxc-exBm3sMn"
      },
      "source": [
        "if - else"
      ]
    },
    {
      "cell_type": "code",
      "execution_count": null,
      "metadata": {
        "id": "LqP7bwUr3q1L",
        "colab": {
          "base_uri": "https://localhost:8080/"
        },
        "outputId": "d10b8fdf-ca97-42bb-c08e-6beb0d1135b4"
      },
      "outputs": [
        {
          "output_type": "stream",
          "name": "stdout",
          "text": [
            "3 digit\n",
            "less than 1000\n"
          ]
        }
      ],
      "source": [
        "number = 123\n",
        "if number > 99 and number < 1000:\n",
        "    print('3 digit')\n",
        "    print(\"less than 1000\")\n",
        "else:\n",
        "    print('Not 3 digit')\n",
        "\t\n",
        "# Enter number : 123\n",
        "# 3 digit"
      ]
    },
    {
      "cell_type": "markdown",
      "metadata": {
        "id": "TwpgL-pu4CLK"
      },
      "source": [
        "if - elif - else"
      ]
    },
    {
      "cell_type": "code",
      "execution_count": null,
      "metadata": {
        "id": "axOHbakO3qi1",
        "colab": {
          "base_uri": "https://localhost:8080/"
        },
        "outputId": "5f748a3e-29e8-42a0-9334-7b841df9921e"
      },
      "outputs": [
        {
          "output_type": "stream",
          "name": "stdout",
          "text": [
            "Are you familiar with python : yes\n",
            "You can skip this course :-|\n"
          ]
        }
      ],
      "source": [
        "response = input('Are you familiar with python : ')\n",
        "\n",
        "if response.upper() == \"YES\":\n",
        "    print(\"You can skip this course :-|\")\n",
        "elif response.upper() == \"NO\":\n",
        "    print(\"You are at the right place :-)\")\n",
        "else:\n",
        "    print('Sorry wrong input :-(')\n",
        "\t\n",
        "# Are you familiar with python : no\n",
        "# You are at the right place :-)"
      ]
    },
    {
      "cell_type": "markdown",
      "metadata": {
        "id": "C3vYs2X_4NGa"
      },
      "source": [
        "Note \n",
        "\n",
        "*   Take care of indentation !\n",
        "*   Don’t forget to put  ‘ : ’ at the end\n",
        "*   Remember its elif not else if\n",
        "\n"
      ]
    },
    {
      "cell_type": "markdown",
      "metadata": {
        "id": "KKHAo_fk4lyu"
      },
      "source": [
        "**Loops** "
      ]
    },
    {
      "cell_type": "markdown",
      "metadata": {
        "id": "VDSNDP1O43sB"
      },
      "source": [
        "range() -  function"
      ]
    },
    {
      "cell_type": "code",
      "execution_count": null,
      "metadata": {
        "id": "53RAMLbf3Ohr",
        "colab": {
          "base_uri": "https://localhost:8080/"
        },
        "outputId": "55122b87-87be-4550-ef9f-2ec712102db1"
      },
      "outputs": [
        {
          "output_type": "stream",
          "name": "stdout",
          "text": [
            "[0, 1, 2, 3, 4, 5, 6, 7, 8, 9]\n",
            "[1, 2, 3, 4, 5, 6, 7, 8, 9]\n",
            "[1, 3, 5, 7, 9]\n"
          ]
        }
      ],
      "source": [
        "print(list(range(10)))\n",
        "# [0, 1, 2, 3, 4, 5, 6, 7, 8, 9]\n",
        "\n",
        "print(list(range(1,10)))\n",
        "# [1, 2, 3, 4, 5, 6, 7, 8, 9]\n",
        "\n",
        "print(list(range(1,10,2)))\n",
        "# [1, 3, 5, 7, 9]"
      ]
    },
    {
      "cell_type": "markdown",
      "metadata": {
        "id": "YMx2gH4l5Rqo"
      },
      "source": [
        "for - loop"
      ]
    },
    {
      "cell_type": "code",
      "execution_count": null,
      "metadata": {
        "id": "PvyaY5kN49hd",
        "colab": {
          "base_uri": "https://localhost:8080/"
        },
        "outputId": "04e3df9f-f575-4920-da56-2ff60a04ef94"
      },
      "outputs": [
        {
          "output_type": "stream",
          "name": "stdout",
          "text": [
            "0 1 2 3 4 5 6 7 8 9 "
          ]
        }
      ],
      "source": [
        "for x in range(10):\n",
        "    print(x,end=' ')\n",
        "\t\n",
        "# 0 1 2 3 4 5 6 7 8 9 "
      ]
    },
    {
      "cell_type": "code",
      "execution_count": null,
      "metadata": {
        "id": "MCIu5KCW49lC",
        "colab": {
          "base_uri": "https://localhost:8080/"
        },
        "outputId": "fb02e768-9592-4536-9ef8-51fc7ee6cbc9"
      },
      "outputs": [
        {
          "output_type": "stream",
          "name": "stdout",
          "text": [
            "Enter a limit : 10\n",
            "Odd sum = 25\n"
          ]
        }
      ],
      "source": [
        "limit = int(input('Enter a limit : '))\n",
        "sum = 0\n",
        "\n",
        "for i in range(1,limit + 1):\n",
        "\tif i%2 != 0:\n",
        "\t\tsum += i\n",
        "\n",
        "print(\"Odd sum = \"+str(sum))\n",
        "\n",
        "# Enter a limit : 15\n",
        "# Odd sum = 64"
      ]
    },
    {
      "cell_type": "code",
      "execution_count": null,
      "metadata": {
        "id": "N2JZWKUSwesX",
        "colab": {
          "base_uri": "https://localhost:8080/"
        },
        "outputId": "b615d031-cab8-405a-d487-2ed7f102b49e"
      },
      "outputs": [
        {
          "output_type": "stream",
          "name": "stdout",
          "text": [
            "Enter number : 153\n",
            "Armstrong\n"
          ]
        }
      ],
      "source": [
        "\n",
        "number = int(input('Enter number : '))\n",
        "n = number\n",
        "s = 0\n",
        "while number > 0 :\n",
        "    s += (number%10)**3\n",
        "    number = number//10\n",
        "if n == s:\n",
        "    print(\"Armstrong\")\n",
        "else:\n",
        "    print(\"Not Armstrong\")"
      ]
    },
    {
      "cell_type": "markdown",
      "metadata": {
        "id": "xQyYXPXz5ViV"
      },
      "source": [
        "while - loop"
      ]
    },
    {
      "cell_type": "code",
      "execution_count": null,
      "metadata": {
        "id": "u6l_XV5L2oe3",
        "colab": {
          "base_uri": "https://localhost:8080/"
        },
        "outputId": "4ca117c9-e8b9-446e-9618-2f3b9e2f024a"
      },
      "outputs": [
        {
          "output_type": "stream",
          "name": "stdout",
          "text": [
            "Enter number : 156897\n",
            "36\n"
          ]
        }
      ],
      "source": [
        "#sum od digits\n",
        "number = int(input('Enter number : '))\n",
        "s = 0\n",
        "while number > 0 :\n",
        "    s += number%10\n",
        "    number = number//10\n",
        "print(s)\n",
        "\n",
        "# Enter number : 1254\n",
        "# 12"
      ]
    },
    {
      "cell_type": "markdown",
      "metadata": {
        "id": "1O6nZO675pVp"
      },
      "source": [
        "Nested- loop"
      ]
    },
    {
      "cell_type": "code",
      "source": [],
      "metadata": {
        "id": "ka6qDPUH8mqi"
      },
      "execution_count": null,
      "outputs": []
    },
    {
      "cell_type": "code",
      "execution_count": null,
      "metadata": {
        "id": "UIez1zOCQ-ek",
        "colab": {
          "base_uri": "https://localhost:8080/"
        },
        "outputId": "79cbf932-8d46-4907-e61e-6344240c3501"
      },
      "outputs": [
        {
          "output_type": "stream",
          "name": "stdout",
          "text": [
            "Enter number : 100\n",
            "2 3 5 7 11 13 17 19 23 29 31 37 41 43 47 53 59 61 67 71 73 79 83 89 97 "
          ]
        }
      ],
      "source": [
        "# prime number generation\n",
        "\n",
        "limit = int(input('Enter number : '))\n",
        "for num in range(2,limit+1):\n",
        "    is_divisible = False\n",
        "    k=2\n",
        "    while k <= num//2 :\n",
        "        if num % k == 0:\n",
        "            is_divisible=True\n",
        "            break;\n",
        "        k += 1\n",
        "    if not is_divisible:\n",
        "        print(num,end=' ')"
      ]
    },
    {
      "cell_type": "markdown",
      "metadata": {
        "id": "cpsfF1ji5w7x"
      },
      "source": [
        "**Containers** "
      ]
    },
    {
      "cell_type": "markdown",
      "metadata": {
        "id": "JsWzeP8K53wF"
      },
      "source": [
        "**List** "
      ]
    },
    {
      "cell_type": "code",
      "execution_count": null,
      "metadata": {
        "id": "0d-T1uLe5llO"
      },
      "outputs": [],
      "source": [
        "mylist = ['a','b', 1, 1.2, True]\n",
        "print(mylist)\n",
        "# ['a', 'b', 1, 1.2, True]\n",
        "\n",
        "mylist.append('new')\n",
        "print(mylist)\n",
        "# ['a', 'b', 1, 1.2, True, 'new']\n",
        "\n",
        "print(mylist.pop())\n",
        "# new\n",
        "\n",
        "mylist.insert(2,'new')\n",
        "print(mylist)\n",
        "# ['a', 'b', 'new', 1, 1.2, True]\n",
        "\n",
        "mylist.remove('new')\n",
        "print(mylist)\n",
        "# ['a', 'b', 1, 1.2, True]"
      ]
    },
    {
      "cell_type": "code",
      "execution_count": null,
      "metadata": {
        "id": "Iqlqa0jZ6OCM"
      },
      "outputs": [],
      "source": [
        "b = [1,2,3]\n",
        "mylist.append(b)\n",
        "print(mylist)\n",
        "# ['a', 'b', 1, 1.2, True, [1, 2, 3]]\n",
        "\n",
        "mylist.remove(b)\n",
        "print(mylist)\n",
        "# ['a', 'b', 1, 1.2, True]\n",
        "\n",
        "mylist.extend(b)\n",
        "print(mylist)\n",
        "# ['a', 'b', 1, 1.2, True, 1, 2, 3]\n",
        "\n",
        "a = [2,3,1,4,5] \n",
        "a.sort()\n",
        "print(a)\n",
        "# [1, 2, 3, 4, 5]\n",
        "\n",
        "print(list('hello'))\n",
        "# ['h', 'e', 'l', 'l', 'o']\n",
        "\n"
      ]
    },
    {
      "cell_type": "code",
      "source": [
        "numbers = list(range(1,11))\n",
        "print(numbers)"
      ],
      "metadata": {
        "colab": {
          "base_uri": "https://localhost:8080/"
        },
        "id": "hzhc36Uj9M7i",
        "outputId": "ced6bca1-6fc0-4744-b915-24d400124670"
      },
      "execution_count": null,
      "outputs": [
        {
          "output_type": "stream",
          "name": "stdout",
          "text": [
            "[1, 2, 3, 4, 5, 6, 7, 8, 9, 10]\n"
          ]
        }
      ]
    },
    {
      "cell_type": "markdown",
      "metadata": {
        "id": "o33oYB7k6aOk"
      },
      "source": [
        "Indexing and Slicing"
      ]
    },
    {
      "cell_type": "code",
      "execution_count": null,
      "metadata": {
        "id": "14wKj8eARM-N",
        "colab": {
          "base_uri": "https://localhost:8080/",
          "height": 236
        },
        "outputId": "c843d378-eaf2-485e-847c-2cc53a9940f6"
      },
      "outputs": [
        {
          "output_type": "error",
          "ename": "NameError",
          "evalue": "ignored",
          "traceback": [
            "\u001b[0;31m---------------------------------------------------------------------------\u001b[0m",
            "\u001b[0;31mNameError\u001b[0m                                 Traceback (most recent call last)",
            "\u001b[0;32m<ipython-input-32-2fe83e9a3641>\u001b[0m in \u001b[0;36m<module>\u001b[0;34m\u001b[0m\n\u001b[0;32m----> 1\u001b[0;31m \u001b[0mprint\u001b[0m\u001b[0;34m(\u001b[0m\u001b[0mnumbers\u001b[0m\u001b[0;34m[\u001b[0m\u001b[0;36m1\u001b[0m\u001b[0;34m]\u001b[0m\u001b[0;34m,\u001b[0m\u001b[0mnumbers\u001b[0m\u001b[0;34m[\u001b[0m\u001b[0;34m-\u001b[0m\u001b[0;36m1\u001b[0m\u001b[0;34m]\u001b[0m\u001b[0;34m)\u001b[0m\u001b[0;34m\u001b[0m\u001b[0;34m\u001b[0m\u001b[0m\n\u001b[0m\u001b[1;32m      2\u001b[0m \u001b[0;31m# 2 10\u001b[0m\u001b[0;34m\u001b[0m\u001b[0;34m\u001b[0m\u001b[0;34m\u001b[0m\u001b[0m\n\u001b[1;32m      3\u001b[0m \u001b[0;34m\u001b[0m\u001b[0m\n\u001b[1;32m      4\u001b[0m \u001b[0msliced\u001b[0m \u001b[0;34m=\u001b[0m \u001b[0mnumbers\u001b[0m\u001b[0;34m[\u001b[0m\u001b[0;36m5\u001b[0m\u001b[0;34m:\u001b[0m\u001b[0;36m11\u001b[0m\u001b[0;34m]\u001b[0m\u001b[0;34m\u001b[0m\u001b[0;34m\u001b[0m\u001b[0m\n\u001b[1;32m      5\u001b[0m \u001b[0mprint\u001b[0m\u001b[0;34m(\u001b[0m\u001b[0msliced\u001b[0m\u001b[0;34m)\u001b[0m\u001b[0;34m\u001b[0m\u001b[0;34m\u001b[0m\u001b[0m\n",
            "\u001b[0;31mNameError\u001b[0m: name 'numbers' is not defined"
          ]
        }
      ],
      "source": [
        "\n",
        "print(numbers[1],numbers[-1])\n",
        "# 2 10\n",
        "\n",
        "sliced = numbers[5:11]\n",
        "print(sliced)\n",
        "# [6, 7, 8, 9, 10]\n",
        "\n",
        "sliced = numbers[5:]\n",
        "print(sliced)\n",
        "# [6, 7, 8, 9, 10]\n",
        "\n",
        "sliced = numbers[:7]\n",
        "print(sliced)\n",
        "# [1, 2, 3, 4, 5, 6, 7]\n",
        "\n",
        "sliced = numbers[-2:]\n",
        "print(sliced)\n",
        "# [9, 10]\n"
      ]
    },
    {
      "cell_type": "markdown",
      "metadata": {
        "id": "GzwdQ0r66v9c"
      },
      "source": [
        "List - Comprehension"
      ]
    },
    {
      "cell_type": "code",
      "execution_count": 2,
      "metadata": {
        "id": "1tSyMmDaRxlh",
        "colab": {
          "base_uri": "https://localhost:8080/"
        },
        "outputId": "3bdd85cc-371c-41be-a61e-1535fb7edcd1"
      },
      "outputs": [
        {
          "output_type": "stream",
          "name": "stdout",
          "text": [
            "[1, 2, 3, 4, 5, 6, 7]\n",
            "[1, 4, 9, 16, 25, 36, 49]\n"
          ]
        }
      ],
      "source": [
        "numbers = list(range(1, 8))\n",
        "print(numbers)\n",
        "# [1, 2, 3, 4, 5, 6, 7]\n",
        "\n",
        "square = []\n",
        "for i in numbers:\n",
        "    square.append(pow(i,2))\n",
        "print(square)\n",
        "# [1, 4, 9, 16, 25, 36, 49]"
      ]
    },
    {
      "cell_type": "code",
      "source": [],
      "metadata": {
        "id": "JaBE7qwg53ju"
      },
      "execution_count": null,
      "outputs": []
    },
    {
      "cell_type": "code",
      "execution_count": null,
      "metadata": {
        "id": "nHwnVJ_e66Wj"
      },
      "outputs": [],
      "source": [
        "##List Comprehension\n",
        "square = [x**2 for x in numbers] \n",
        "print(square)\n",
        "# [1, 4, 9, 16, 25, 36, 49]"
      ]
    },
    {
      "cell_type": "code",
      "source": [
        "##List Comprehension\n",
        "square = [x**2 for x in numbers if x%2==0] \n",
        "print(square)\n",
        "# [1, 4, 9, 16, 25, 36, 49]"
      ],
      "metadata": {
        "colab": {
          "base_uri": "https://localhost:8080/"
        },
        "id": "abkkBxCYXQCT",
        "outputId": "aa808e32-4fdf-483e-bbab-431f6a914e19"
      },
      "execution_count": 4,
      "outputs": [
        {
          "output_type": "stream",
          "name": "stdout",
          "text": [
            "[4, 16, 36]\n"
          ]
        }
      ]
    },
    {
      "cell_type": "code",
      "source": [
        "##List Comprehension\n",
        "square = [x**2 if x%2==0 else \"odd\" for x in numbers] \n",
        "print(square)\n",
        "# [1, 4, 9, 16, 25, 36, 49]"
      ],
      "metadata": {
        "colab": {
          "base_uri": "https://localhost:8080/"
        },
        "id": "EFyjP4fKXp5q",
        "outputId": "cc105520-9fe8-41de-f938-70b0b5cf8a73"
      },
      "execution_count": 6,
      "outputs": [
        {
          "output_type": "stream",
          "name": "stdout",
          "text": [
            "['odd', 4, 'odd', 16, 'odd', 36, 'odd']\n"
          ]
        }
      ]
    },
    {
      "cell_type": "markdown",
      "metadata": {
        "id": "EvKYbVJu7Ism"
      },
      "source": [
        "**Dictionary** "
      ]
    },
    {
      "cell_type": "code",
      "execution_count": null,
      "metadata": {
        "id": "4_0swLC46_mH",
        "colab": {
          "base_uri": "https://localhost:8080/"
        },
        "outputId": "18965246-869a-4ac1-9eb1-573bbb456c64"
      },
      "outputs": [
        {
          "output_type": "stream",
          "name": "stdout",
          "text": [
            "Manu\n",
            "True\n",
            "False\n"
          ]
        }
      ],
      "source": [
        "person = {'name' : 'Manu', 'age': 28}\n",
        "print(person['name'])\n",
        "# Manu\n",
        "\n",
        "print('name' in person)\n",
        "# True\n",
        "\n",
        "print('sex' in person)\n",
        "# False"
      ]
    },
    {
      "cell_type": "code",
      "execution_count": null,
      "metadata": {
        "id": "xPFIWEu97bME",
        "colab": {
          "base_uri": "https://localhost:8080/"
        },
        "outputId": "4fe22204-6dc4-4be1-a6f2-e413fbf969b6"
      },
      "outputs": [
        {
          "output_type": "stream",
          "name": "stdout",
          "text": [
            "{'name': 'Manu', 'age': 28, 'sex': 'male'}\n"
          ]
        }
      ],
      "source": [
        "person['sex'] = 'male'\n",
        "print(person)\n",
        "# {'name': 'Manu', 'age': 28, 'sex': 'male'}"
      ]
    },
    {
      "cell_type": "code",
      "execution_count": null,
      "metadata": {
        "id": "yeC8fRj77eGd"
      },
      "outputs": [],
      "source": [
        "for item in person:\n",
        "    print(item,person[item])\n",
        "# name Manu\n",
        "# age 28\n",
        "# sex male"
      ]
    },
    {
      "cell_type": "code",
      "execution_count": null,
      "metadata": {
        "id": "1rK09Zu-7mw2",
        "colab": {
          "base_uri": "https://localhost:8080/"
        },
        "outputId": "8a1524f0-f0f6-46e8-d3ca-407e4209640e"
      },
      "outputs": [
        {
          "output_type": "stream",
          "name": "stdout",
          "text": [
            "Name \t:\t Manu\n",
            "Age \t:\t 28\n",
            "Sex \t:\t male\n",
            "dict_keys(['name', 'age', 'sex'])\n"
          ]
        }
      ],
      "source": [
        "for (key,value) in person.items():\n",
        "    print(key.capitalize(),'\\t:\\t', value)\n",
        "# Name \t:\t Manu\n",
        "# Age \t:\t 28\n",
        "# Sex \t:\t male\n",
        "    \n",
        "print(person.keys())\n",
        "# dict_keys(['name', 'age', 'sex'])"
      ]
    },
    {
      "cell_type": "markdown",
      "metadata": {
        "id": "q3wcMCo-7xAL"
      },
      "source": [
        "**Tuple** "
      ]
    },
    {
      "cell_type": "code",
      "execution_count": null,
      "metadata": {
        "id": "Xhz_U8ES7vvG"
      },
      "outputs": [],
      "source": [
        "t1 = (1,2,3)\n",
        "t2 = 4,5,6\n",
        "print(t1,t2)\n",
        "# (1, 2, 3) (4, 5, 6)\n",
        "\n",
        "t3 = t1 +t2\n",
        "print(t3)\n",
        "# (1, 2, 3, 4, 5, 6)\n",
        "\n",
        "lt = tuple(['a','b','c','d'])\n",
        "print(lt)\n",
        "# ('a', 'b', 'c', 'd')\n"
      ]
    },
    {
      "cell_type": "code",
      "execution_count": null,
      "metadata": {
        "id": "jR35I7-998N8"
      },
      "outputs": [],
      "source": [
        "\n",
        "lt[2] = 'x'\n",
        "\n",
        "# ----> 1 lt[2] = 'x'\n",
        "# TypeError: 'tuple' object does not support item assignment\n",
        "\n"
      ]
    },
    {
      "cell_type": "markdown",
      "metadata": {
        "id": "gyGwcM058IqV"
      },
      "source": [
        "**Set** "
      ]
    },
    {
      "cell_type": "code",
      "execution_count": null,
      "metadata": {
        "id": "f-4S_oYi8O07"
      },
      "outputs": [],
      "source": [
        "s = {1,2,3}\n",
        "print(s,type(s))\n",
        "# {1, 2, 3} <class 'set'>\n",
        "\n",
        "fset = {\"apple\", \"banana\", \"cherry\"}\n",
        "fset.remove(\"banana\")\n",
        "print(fset)\n",
        "# {'apple', 'cherry'}\n",
        "\n",
        "fset = {\"apple\", \"banana\", \"cherry\"}\n",
        "fset.discard(\"banana\")\n",
        "print(fset)\n",
        "# {'apple', 'cherry’}\n",
        "\n",
        "fset = {\"apple\", \"banana\", \"cherry\"}\n",
        "fset.clear()\n",
        "print(fset)\n",
        "# set()"
      ]
    },
    {
      "cell_type": "code",
      "execution_count": null,
      "metadata": {
        "id": "920dJcts8UPK"
      },
      "outputs": [],
      "source": [
        "set1 = {\"a\", \"b\" , \"c\"}\n",
        "set2 = {1, 2, 3}\n",
        "set3 = set1.union(set2)\n",
        "print(set3)\n",
        "# {1, 2, 3, 'b', 'c', 'a'}\n",
        "\n",
        "x = {\"apple\", \"banana\", \"cherry\"}\n",
        "y = {\"google\", \"microsoft\", \"apple\"}\n",
        "\n",
        "z = x.intersection(y)\n",
        "print(z)\n",
        "# {'apple’}\n",
        "\n",
        "lst = [1,2,3,4,5,5,5,7,6]\n",
        "myset = list(set(lst))\n",
        "print(myset)\n",
        "# [1, 2, 3, 4, 5, 6, 7]\n",
        "\n"
      ]
    },
    {
      "cell_type": "markdown",
      "metadata": {
        "id": "67MZ8A3L8fDF"
      },
      "source": [
        "**Functions** "
      ]
    },
    {
      "cell_type": "code",
      "execution_count": null,
      "metadata": {
        "id": "DmbsmPs0dfp0"
      },
      "outputs": [],
      "source": [
        "def twice(number):\n",
        "    return 2*number\n",
        "t = twice(5)\n",
        "print(t)\n",
        "# 10"
      ]
    },
    {
      "cell_type": "code",
      "execution_count": null,
      "metadata": {
        "id": "0-eIRa9og4To"
      },
      "outputs": [],
      "source": [
        "\n",
        "def isPrime(number):\n",
        "    for factor in range(2, (number//2)+1):\n",
        "        if number%factor == 0:\n",
        "            return False\n",
        "    return True\n",
        "\n",
        "number = int(input('Enter the number '))\n",
        "print(isPrime(number))\n",
        "# Enter the number 10\n",
        "# False"
      ]
    },
    {
      "cell_type": "code",
      "execution_count": null,
      "metadata": {
        "id": "hWoc1-R08tvj"
      },
      "outputs": [],
      "source": [
        "def printPrimes(llimit, ulimit):\n",
        "    for num in range(llimit, ulimit + 1):    \n",
        "        if isPrime(num) == True:\n",
        "            print(num, end = ' ')\n",
        "\n",
        "printPrimes(5,50)\n",
        "# 5 7 11 13 17 19 23 29 31 37 41 43 47"
      ]
    },
    {
      "cell_type": "code",
      "execution_count": null,
      "metadata": {
        "id": "T5j30VCw85_4"
      },
      "outputs": [],
      "source": [
        "def swap(x,y):\n",
        "    t = x\n",
        "    x = y\n",
        "    y = t\n",
        "    return x,y\n",
        "\n",
        "a=5\n",
        "b=7\n",
        "a,b = swap(a,b)\n",
        "print(a,b)\n",
        "#7 5"
      ]
    },
    {
      "cell_type": "code",
      "execution_count": null,
      "metadata": {
        "id": "yAa0rHFJ9Dd4"
      },
      "outputs": [],
      "source": [
        "def calculatePayable(p, y = 1, r = 5):\n",
        "    return p*(1 + r* y/100)\n",
        "\n",
        "print(calculatePayable(1000))\n",
        "# 1050.0\n",
        "print(calculatePayable(1000, y =3))\n",
        "# 1150.0\n",
        "print(calculatePayable(1000, r = 10, y=3))\n",
        "# 1300.0\n",
        "print(calculatePayable(5000, r = 3))\n",
        "# 5150.0\n"
      ]
    },
    {
      "cell_type": "markdown",
      "metadata": {
        "id": "kDkkGt9n9Knf"
      },
      "source": [
        "**Object Oriented Programming** "
      ]
    },
    {
      "cell_type": "markdown",
      "metadata": {
        "id": "lnCzBNSd9b9H"
      },
      "source": [
        "Class and Objects"
      ]
    },
    {
      "cell_type": "code",
      "execution_count": null,
      "metadata": {
        "id": "CsuoFWwE9VBR"
      },
      "outputs": [],
      "source": [
        "\n",
        "class Adder:\n",
        "\n",
        "    #constructor\n",
        "    def __init__(self): \n",
        "        self.__x = 0\n",
        "        self.__y = 0\n",
        "    #setter\n",
        "    def setValues(self, x, y): \n",
        "        self.__x = x\n",
        "        self.__y = y\n",
        "\t\t\n",
        "    #self variable name can be anything\n",
        "    def calculate(self1):\n",
        "        self1.__sum = self1.__x + self1.__y \n",
        "\t\t\n",
        "    #getter\n",
        "    def getSum(self): \n",
        "        return self.__sum"
      ]
    },
    {
      "cell_type": "code",
      "execution_count": null,
      "metadata": {
        "id": "dp28xvi99mF1",
        "colab": {
          "base_uri": "https://localhost:8080/"
        },
        "outputId": "81b20d46-2dd5-4d2b-fd3a-d0dfd1b8a0b5"
      },
      "outputs": [
        {
          "output_type": "stream",
          "name": "stdout",
          "text": [
            "9\n"
          ]
        }
      ],
      "source": [
        "adder =  Adder() \n",
        "adder.setValues(5,4)\n",
        "adder.calculate()\n",
        "print(adder.getSum())\n",
        "#9"
      ]
    },
    {
      "cell_type": "markdown",
      "metadata": {
        "id": "ihYA2yGn-aeM"
      },
      "source": [
        "## **THANK YOU** "
      ]
    },
    {
      "cell_type": "markdown",
      "metadata": {
        "id": "Z308GVsi-ahc"
      },
      "source": [
        "***A lot more to learn, Keep Learning*** "
      ]
    }
  ],
  "metadata": {
    "colab": {
      "provenance": []
    },
    "kernelspec": {
      "display_name": "Python 3",
      "language": "python",
      "name": "python3"
    },
    "language_info": {
      "codemirror_mode": {
        "name": "ipython",
        "version": 3
      },
      "file_extension": ".py",
      "mimetype": "text/x-python",
      "name": "python",
      "nbconvert_exporter": "python",
      "pygments_lexer": "ipython3",
      "version": "3.8.5"
    }
  },
  "nbformat": 4,
  "nbformat_minor": 0
}